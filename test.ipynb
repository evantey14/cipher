{
 "cells": [
  {
   "cell_type": "code",
   "execution_count": 1,
   "metadata": {},
   "outputs": [],
   "source": [
    "import matplotlib.pyplot as plt\n",
    "import numpy as np\n",
    "import time\n",
    "\n",
    "from utils import *\n",
    "from decode import *\n",
    "\n",
    "%load_ext autoreload\n",
    "%autoreload 2\n",
    "%matplotlib inline"
   ]
  },
  {
   "cell_type": "code",
   "execution_count": 2,
   "metadata": {},
   "outputs": [],
   "source": [
    "with open('data/texts/feynman.txt', 'r') as file1:\n",
    "    text1 = file1.readline()\n",
    "    \n",
    "with open('data/texts/milton.txt', 'r') as file2:\n",
    "    text2 = file2.readline()\n",
    "    \n",
    "with open('data/texts/tolstoy.txt', 'r') as file3:\n",
    "    text3 = file3.readline()"
   ]
  },
  {
   "cell_type": "code",
   "execution_count": 3,
   "metadata": {},
   "outputs": [],
   "source": [
    "def pick_random_text():\n",
    "    text_number = np.random.randint(3)\n",
    "    if text_number == 0:\n",
    "        return text1\n",
    "    elif text_number == 1:\n",
    "        return text2\n",
    "    else:\n",
    "        return text3"
   ]
  },
  {
   "cell_type": "code",
   "execution_count": 4,
   "metadata": {},
   "outputs": [],
   "source": [
    "def generate_test_data(has_breakpoint):\n",
    "    plaintexts, ciphertexts = [], []\n",
    "    for i in range(ITERATIONS):\n",
    "        plaintext = get_random_substring(pick_random_text())\n",
    "        plainnumbers = text_to_number(plaintext)\n",
    "        if has_breakpoint:\n",
    "            f1, f2, b = sample_f(), sample_f(), sample_b(len(plaintext))\n",
    "            ciphernumbers = decode_with_b(f1, f2, b, plainnumbers)\n",
    "        else:\n",
    "            f = sample_f()\n",
    "            ciphernumbers = decode_with_f(f, plainnumbers)\n",
    "        plaintexts.append(plaintext)\n",
    "        ciphertexts.append(number_to_text(ciphernumbers))\n",
    "    return plaintexts, ciphertexts"
   ]
  },
  {
   "cell_type": "code",
   "execution_count": 8,
   "metadata": {},
   "outputs": [],
   "source": [
    "ITERATIONS = 10\n",
    "has_breakpoint = True"
   ]
  },
  {
   "cell_type": "code",
   "execution_count": 9,
   "metadata": {},
   "outputs": [],
   "source": [
    "plaintexts, ciphertexts = generate_test_data(has_breakpoint)"
   ]
  },
  {
   "cell_type": "code",
   "execution_count": 12,
   "metadata": {},
   "outputs": [
    {
     "name": "stdout",
     "output_type": "stream",
     "text": [
      "0.861576354679803 229.2386510372162\n",
      "0.854494382022472 215.2114613056183\n",
      "0.9246376811594202 165.50814151763916\n",
      "0.7795275590551181 204.73707175254822\n",
      "0.711340206185567 177.05260372161865\n",
      "0.6666666666666666 180.97149801254272\n",
      "0.8093385214007782 156.9533395767212\n",
      "0.8477951635846372 226.98833346366882\n",
      "0.7952415284787311 194.80025482177734\n",
      "0.7375366568914956 190.55581045150757\n"
     ]
    }
   ],
   "source": [
    "accuracies, times = np.zeros(ITERATIONS), np.zeros(ITERATIONS)\n",
    "for i in range(ITERATIONS):\n",
    "    start = time.time()\n",
    "    guess = decode(ciphertexts[i], has_breakpoint)\n",
    "    end = time.time()\n",
    "    \n",
    "    a = lambda o, g: get_accuracy(text_to_number(o), text_to_number(g))\n",
    "    accuracy = a(plaintexts[i], guess)\n",
    "    accuracies[i], times[i] = accuracy, (end - start)\n",
    "    print(accuracies[i], times[i])"
   ]
  },
  {
   "cell_type": "code",
   "execution_count": null,
   "metadata": {},
   "outputs": [],
   "source": [
    "''' \n",
    "ensemble 100, max_iters 5000, stop 1000\n",
    "0.8596059113300493 65.78884530067444\n",
    "0.8601123595505618 64.70300793647766\n",
    "0.7623188405797101 55.46209692955017\n",
    "0.7858267716535433 61.18997359275818\n",
    "0.561119293078056 56.70769786834717\n",
    "0.5200803212851406 54.12625241279602\n",
    "0.7198443579766537 51.95302772521973\n",
    "0.813655761024182 56.15900254249573\n",
    "0.7901946647440519 55.086676359176636\n",
    "0.6304985337243402 56.97266125679016\n",
    "\n",
    "\n",
    "ensemble 250, max_iters 5000, stop 1000\n",
    "0.829064039408867 162.2974443435669\n",
    "0.8258426966292135 153.60858631134033\n",
    "0.8927536231884058 136.47143983840942\n",
    "0.8582677165354331 163.68277645111084\n",
    "0.5773195876288659 134.0021870136261\n",
    "0.714859437751004 126.18412017822266\n",
    "0.7315175097276264 118.22114968299866\n",
    "0.8250355618776671 142.38429164886475\n",
    "0.8529199711607787 136.86985325813293\n",
    "0.7360703812316716 144.81619262695312\n",
    "\n",
    "ensemble 250, max_iters 10000, stop 1000\n",
    "0.861576354679803 229.2386510372162\n",
    "0.854494382022472 215.2114613056183\n",
    "0.9246376811594202 165.50814151763916\n",
    "0.7795275590551181 204.73707175254822\n",
    "0.711340206185567 177.05260372161865\n",
    "0.6666666666666666 180.97149801254272\n",
    "0.8093385214007782 156.9533395767212\n",
    "0.8477951635846372 226.98833346366882\n",
    "0.7952415284787311 194.80025482177734\n",
    "0.7375366568914956 190.55581045150757\n",
    "'''"
   ]
  },
  {
   "cell_type": "code",
   "execution_count": 31,
   "metadata": {},
   "outputs": [
    {
     "name": "stdout",
     "output_type": "stream",
     "text": [
      "[0.125 0.154 0.168 0.148 0.108 0.086 0.063 0.06  0.044 0.044]\n"
     ]
    },
    {
     "data": {
      "image/png": "[encoded data removed]",
      "text/plain": [
       "<Figure size 432x288 with 1 Axes>"
      ]
     },
     "metadata": {
      "needs_background": "light"
     },
     "output_type": "display_data"
    }
   ],
   "source": [
    "n, _, _ = plt.hist(accuracies, bins=10)\n",
    "print(np.array(n) / ITERATIONS)"
   ]
  },
  {
   "cell_type": "code",
   "execution_count": 32,
   "metadata": {},
   "outputs": [
    {
     "name": "stdout",
     "output_type": "stream",
     "text": [
      "0.6585926463603974\n"
     ]
    },
    {
     "data": {
      "image/png": "[encoded data removed]",
      "text/plain": [
       "<Figure size 432x288 with 1 Axes>"
      ]
     },
     "metadata": {
      "needs_background": "light"
     },
     "output_type": "display_data"
    }
   ],
   "source": [
    "plt.hist(times)\n",
    "print(np.array(times).mean())"
   ]
  },
  {
   "cell_type": "code",
   "execution_count": 23,
   "metadata": {},
   "outputs": [],
   "source": [
    "def get_ensemble_stats(N, accuracy, time):\n",
    "    return (1-accuracy)**N, N*time"
   ]
  },
  {
   "cell_type": "code",
   "execution_count": 24,
   "metadata": {},
   "outputs": [
    {
     "name": "stdout",
     "output_type": "stream",
     "text": [
      "1 (0.43700000000000006, 0.235)\n",
      "5 (0.01593702246595701, 1.1749999999999998)\n",
      "10 (0.00025398868508041847, 2.3499999999999996)\n",
      "25 (1.0281013377812518e-09, 5.875)\n",
      "50 (1.0569923607475995e-18, 11.75)\n",
      "100 (1.1172328506787835e-36, 23.5)\n"
     ]
    }
   ],
   "source": [
    "for n in [1, 5, 10, 25, 50, 100]:\n",
    "    print(n, get_ensemble_stats(n, .563, .235))"
   ]
  }
 ],
 "metadata": {
  "kernelspec": {
   "display_name": "Python 3",
   "language": "python",
   "name": "python3"
  },
  "language_info": {
   "codemirror_mode": {
    "name": "ipython",
    "version": 3
   },
   "file_extension": ".py",
   "mimetype": "text/x-python",
   "name": "python",
   "nbconvert_exporter": "python",
   "pygments_lexer": "ipython3",
   "version": "3.8.2"
  }
 },
 "nbformat": 4,
 "nbformat_minor": 4
}
