{
 "cells": [
  {
   "cell_type": "code",
   "execution_count": null,
   "metadata": {},
   "outputs": [],
   "source": [
    "from decode import decode\n",
    "from utils import text_to_number, get_accuracy\n",
    "\n",
    "%load_ext autoreload\n",
    "%autoreload 2"
   ]
  },
  {
   "cell_type": "code",
   "execution_count": null,
   "metadata": {},
   "outputs": [],
   "source": [
    "ciphertext = 'yjbxqfr.c.tfvv.xrcnyf.pz.kfnzb.bn .vmyyb.brf.nzt.empq.wbucva.fpqbqfp.zw.qjf.smznbxbrqfpo.smq.c.tbrn.azm.cw.azm. znq.qfvv.uf.qjbq.qjcp.ufbnp.tbr.cw.azm.pqcvv.qra.qz. fwfn .qjf.cnwbucfp.bn .jzrrzrp.xfrxfqrbqf .sa.qjbq.bnqcyjrcpqc.rfbvva.sfvcflf.jf.cp.bnqcyjrcpqc.tcvv.jblf.nzqjcnk.uzrf.qz. z.tcqj.azm.bn .azm.brf.nz.vznkfr.ua.wrcfn .nz.vznkfr.ua.wbcqjwmv.pvblf.bp.azm.ybvv.azmrpfvw.smq.jzt. z.azm. z.c.pff.c.jblf.wrckjqfnf .azmpcq. ztn.bn .qfvv.uf.bvv.qjf.nftpo.cq.tbp.cn.emva.bn .qjf.pxfbhfr.tbp.qjf.tfvvhnztn.bnnb.xblvzlnb.pyjfrfr.ubc .zw.jznzr.bn .wblzrcqf.zw.qjf.fuxrfpp.ubrab.wf zrzlnbo.tcqj.qjfpf.tzr p.pjf.krffqf .xrcnyf.lbpcvc.hmrbkcn.b.ubn.zw.jckj.rbnh.bn .cuxzrqbnyf.tjz.tbp.qjf.wcrpq.qz.brrclf.bq.jfr.rfyfxqczno.bnnb.xblvzlnb.jb .jb .b.yzmkj.wzr.pzuf. bapo.pjf.tbp.bp.pjf.pbc .pmwwfrcnk.wrzu.vb.krcxxf.krcxxf.sfcnk.qjfn.b.nft.tzr .cn.pqo.xfqfrpsmrk.mpf .znva.sa.qjf.fvcqfo.bvv.jfr.cnlcqbqcznp.tcqjzmq.fdyfxqczn.trcqqfn.cn.wrfnyj.bn . fvclfrf .sa.b.pybrvfqvclfrcf .wzzqubn.qjbq.uzrncnk.rbn.bp.wzvvztp.cw.azm.jblf.nzqjcnk.sfqqfr.qz. z.yzmnq.zr.xrcnyf.bn .cw.qjf.xrzpxfyq.zw.pxfn cnk.bn.flfncnk.tcqj.b.xzzr.cnlbvc .cp.nzq.qzz.qfrrcsvf.c.pjbvv.sf.lfra.yjbruf .qz.pff.azm.qznckjq.sfqtffn.bn .bnnfqqf.pyjfrfro.jfblfnp.tjbq.b.lcrmvfnq.bqqbyh.rfxvcf .qjf.xrcnyf.nzq.cn.qjf.vfbpq. cpyznyfrqf .sa.qjcp.rfyfxqczno.jf.jb .empq.fnqfrf .tfbrcnk.bn.fusrzc frf .yzmrq.mncwzru.hnff.srffyjfp.bn .pjzfp.bn .jb .pqbrp.zn.jcp.srfbpq.bn .b.pfrfnf.fdxrfppczn.zn.jcp.wvbq.wbyfo.jf.pxzhf.cn.qjbq.rfwcnf .wrfnyj.cn.tjcyj.zmr.krbn wbqjfrp.nzq.znva.pxzhf.smq.qjzmkjq.bn .tcqj.qjf.kfnqvf.xbqrzncicnk.cnqznbqczn.nbqmrbv.qz.b.ubn.zw.cuxzrqbnyf.tjz.jb .krztn.zv .cn.pzycfqa.bn .bq.yzmrqo.jf.tfnq.mx.qz.bnnb.xblvzlnb.hcppf .jfr.jbn .xrfpfnqcnk.qz.jfr.jcp.sbv .pyfnqf .bn .pjcncnk.jfb .bn .yzuxvbyfnqva.pfbqf .jcupfvw.zn.qjf.pzwbo.wcrpq.zw.bvv. fbr.wrcfn .qfvv.uf.jzt.azm.brfo.pfq.azmr.wrcfn p.ucn .bq.rfpq.pbc .jf.tcqjzmq.bvqfrcnk.jcp.qznf.sfnfbqj.qjf.xzvcqfnfpp.bn .bwwfyqf .pauxbqja.zw.tjcyj.cn cwwfrfnyf.bn .flfn.crzna.yzmv .sf. cpyfrnf o'\n",
    "breakpoint_ciphertext = 'nqesi jzazp ttzsjamn zyrzd mrezemcztfnnezej zmrpzlfyizbeoatuz yiei yzrbziq zgfrmeseji ykzgfizazpejmzurfzabzurfzcrmizi ttzo ziqeiziqayzo emyzpejzabzurfzyiattzijuzirzc b mcziq zambeoa yzemczqrjjrjyzs js ijei czguziqeizemianqjayiazj ettuzg ta x zq zayzemianqjayiazpattzqex zmriqamdzorj zirzcrzpaiqzurfzemczurfzej zmrztrmd jzouzbja mczmrztrmd jzouzbeaiqbftzytex zeyzurfznettzurfjy tbzgfizqrpzcrzurfzcrzazy  zazqex zbjadqi m czurfyaizcrpmzemczi ttzo zettziq zm pykzaizpeyzamzlftuzemcziq zys ev jzpeyziq zp ttvmrpmzemmezsextrxmezynq j jzoeaczrbzqrmrjzemczbexrjai zrbziq z osj yyzoejuezb crjrxmekzpaiqziq y zprjcyzyq zdj  i czsjamn zxeyatazvfjedamzezoemzrbzqadqzjemvzemczaosrjiemn zpqrzpeyziq zbajyizirzejjax zeizq jzj n siarmkzemmezsextrxmezqeczqeczeznrfdqzbrjzyro zceuykzyq zpeyzeyzyq zyeaczyfbb jamdzbjroztezdjass zdjass zg amdziq mzezm pzprjczamzyikzs i jygfjdzfy czrmtuzguziq z tai kzettzq jzamxaieiarmyzpaiqrfiz .n siarmzpjaii mzamzbj mnqzemczc tax j czguzezynejt itax ja czbrrioemziqeizorjmamdzjemzeyzbrttrpyzabzurfzqex zmriqamdzg ii jzirzcrznrfmizrjzsjamn zemczabziq zsjrys nizrbzys mcamdzemz x mamdzpaiqzezsrrjzamxetaczayzmrizirrzi jjagt zazyqettzg zx juznqejo czirzy  zurfzirmadqizg ip  mzemczemm ii zynq j jkzq ex myzpqeizezxajft mizeiienvzj sta cziq zsjamn zmrizamziq zt eyizcaynrmn ji czguziqayzj n siarmkzq zqeczlfyiz mi j czp ejamdzemz ogjrac j cznrfjizfmabrjozvm  zgj  nq yzemczyqr yzemczqeczyiejyzrmzqayzgj eyizemczezy j m z .sj yyarmzrmzqayzbteizben kzq zysrv zamziqeizj bam czbj mnqzamzpqanqzrfjzdjemcbeiq jyzmrizrmtuzysrv zgfiziqrfdqizemczpaiqziq zd mohdgipoks.ebe. ge.os.poes.g.polkphgosgpgjp.gstgejiskop.xdgqasgapzg ksq.gshzge.gcsxedorgp.zgpogxslkomgadgqd.ogligosgp..pgipvhsv.pgfeccdzgadkgap.zgikdcd.oe. gosgadkgaecgyphzgcxd.odzgp.zgcae.e. gadpzgp.zgxsjihpxd.ohrgcdpodzgaejcdhtgs.goadgcstpmgtekcogstgphhgzdpkgtked.zgodhhgjdgasqgrslgpkdmgcdogrslkgtked.zcgje.zgpogkdcogcpezgadgqeoaslogphodke. gaecgos.dgyd.dpoagoadgisheod.dccgp.zgpttdxodzgcrjipoargstgqaexage.zettdkd.xdgp.zgdvd.geks.rgxslhzgydgzecxdk.dzm'\n",
    "plaintext = 'chapter i well prince so genoa and lucca are now just family estates of the buonapartes. but i warn you if you dont tell me that this means war if you still try to defend the infamies and horrors perpetrated by that antichristi really believe he is antichristi will have nothing more to do with you and you are no longer my friend no longer my faithful slave as you call yourself but how do you do i see i have frightened yousit down and tell me all the news. it was in july and the speaker was the wellknown anna pavlovna scherer maid of honor and favorite of the empress marya fedorovna. with these words she greeted prince vasili kuragin a man of high rank and importance who was the first to arrive at her reception. anna pavlovna had had a cough for some days. she was as she said suffering from la grippe grippe being then a new word in st. petersburg used only by the elite. all her invitations without exception written in french and delivered by a scarletliveried footman that morning ran as follows if you have nothing better to do count or prince and if the prospect of spending an evening with a poor invalid is not too terrible i shall be very charmed to see you tonight between and annette scherer. heavens what a virulent attack replied the prince not in the least disconcerted by this reception. he had just entered wearing an embroidered court uniform knee breeches and shoes and had stars on his breast and a serene expression on his flat face. he spoke in that refined french in which our grandfathers not only spoke but thought and with the gentle patronizing intonation natural to a man of importance who had grown old in society and at court. he went up to anna pavlovna kissed her hand presenting to her his bald scented and shining head and complacently seated himself on the sofa. first of all dear friend tell me how you are. set your friends mind at rest said he without altering his tone beneath the politeness and affected sympathy of which indifference and even irony could be discerned.'"
   ]
  },
  {
   "cell_type": "code",
   "execution_count": null,
   "metadata": {},
   "outputs": [],
   "source": [
    "predicted_plaintext = decode(ciphertext, has_breakpoint=False)\n",
    "print(predicted_plaintext)"
   ]
  },
  {
   "cell_type": "code",
   "execution_count": null,
   "metadata": {},
   "outputs": [],
   "source": [
    "print(get_accuracy(plaintext, predicted_plaintext, is_text=True))"
   ]
  },
  {
   "cell_type": "code",
   "execution_count": null,
   "metadata": {},
   "outputs": [],
   "source": [
    "predicted_breakpoint_plaintext = decode(breakpoint_ciphertext, has_breakpoint=True)"
   ]
  },
  {
   "cell_type": "code",
   "execution_count": null,
   "metadata": {},
   "outputs": [],
   "source": [
    "print(get_accuracy(plaintext, predicted_breakpoint_plaintext, is_text=True))"
   ]
  }
 ],
 "metadata": {
  "kernelspec": {
   "display_name": "Python 3",
   "language": "python",
   "name": "python3"
  },
  "language_info": {
   "codemirror_mode": {
    "name": "ipython",
    "version": 3
   },
   "file_extension": ".py",
   "mimetype": "text/x-python",
   "name": "python",
   "nbconvert_exporter": "python",
   "pygments_lexer": "ipython3",
   "version": "3.8.3"
  }
 },
 "nbformat": 4,
 "nbformat_minor": 4
}
